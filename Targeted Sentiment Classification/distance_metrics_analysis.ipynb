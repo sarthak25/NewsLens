{
  "cells": [
    {
      "cell_type": "code",
      "execution_count": 1,
      "metadata": {},
      "outputs": [],
      "source": [
        "import pandas as pd \n",
        "import numpy  as np \n",
        "\n",
        "from sklearn.metrics.pairwise import cosine_similarity\n",
        "from sklearn.preprocessing import MultiLabelBinarizer\n",
        "from sklearn.metrics.pairwise import cosine_similarity"
      ]
    },
    {
      "cell_type": "code",
      "execution_count": 108,
      "metadata": {},
      "outputs": [],
      "source": [
        "df = pd.read_csv(\"output/final_processed_articles.csv\")\n",
        "\n"
      ]
    },
    {
      "cell_type": "code",
      "execution_count": 109,
      "metadata": {},
      "outputs": [],
      "source": [
        "df['words'] = df['words'].apply(lambda x: eval(x) if isinstance(x, str) else x)\n",
        "\n",
        "df['text_embeddings'] = df['text_embeddings'].apply(lambda x: eval(x) if isinstance(x, str) else x)"
      ]
    },
    {
      "cell_type": "code",
      "execution_count": 110,
      "metadata": {},
      "outputs": [],
      "source": [
        "text_embeddings = list(df[\"text_embeddings\"].values)\n"
      ]
    },
    {
      "cell_type": "code",
      "execution_count": 111,
      "metadata": {},
      "outputs": [],
      "source": [
        "mlb = MultiLabelBinarizer()\n",
        "\n",
        "one_hot_encoded = mlb.fit_transform(df['words'])\n",
        "\n",
        "cosine_sim_matrix = cosine_similarity(one_hot_encoded)"
      ]
    },
    {
      "cell_type": "code",
      "execution_count": 112,
      "metadata": {},
      "outputs": [],
      "source": [
        "def fetch_nearest_neighbors(row_index,cosine_sim_matrix, s):\n",
        "\n",
        "    similarity_scores = cosine_sim_matrix[row_index]\n",
        "    \n",
        "    sorted_indices = similarity_scores.argsort()[::-1]\n",
        "    \n",
        "\n",
        "    sorted_indices = sorted_indices[1:]\n",
        "    \n",
        "\n",
        "    nearest_neighbors_indices = sorted_indices[:s]\n",
        "    \n",
        "    return nearest_neighbors_indices\n",
        "\n",
        "\n"
      ]
    },
    {
      "cell_type": "code",
      "execution_count": 113,
      "metadata": {},
      "outputs": [],
      "source": [
        "def find_cosine_similar_embeddings(query_embedding, embedding_list, s):\n",
        "    \n",
        "    similarities = cosine_similarity([query_embedding], embedding_list)[0]\n",
        "\n",
        "    sorted_indices = np.argsort(similarities)[::-1]\n",
        "\n",
        "    sorted_indices = sorted_indices[1:]\n",
        "    \n",
        "    most_similar_indices = sorted_indices[:s]\n",
        "    \n",
        "    return most_similar_indices"
      ]
    },
    {
      "cell_type": "code",
      "execution_count": 114,
      "metadata": {},
      "outputs": [],
      "source": [
        "def fetch_semantically_divergent(query_embedding, embedding_list, d):\n",
        "\n",
        "    similarities = cosine_similarity([query_embedding], embedding_list)[0]\n",
        "\n",
        "    # similarities = [np.abs(similarity) for similarity in similarities]\n",
        "\n",
        "    sorted_indices = np.argsort(similarities)\n",
        "    \n",
        "    most_similar_indices = sorted_indices[:d]\n",
        "    \n",
        "    return most_similar_indices\n",
        "\n"
      ]
    },
    {
      "cell_type": "code",
      "execution_count": 115,
      "metadata": {},
      "outputs": [],
      "source": [
        "query_index = 47"
      ]
    },
    {
      "cell_type": "markdown",
      "metadata": {},
      "source": [
        "### Nearest Neighbour + Divergent"
      ]
    },
    {
      "cell_type": "code",
      "execution_count": 116,
      "metadata": {},
      "outputs": [],
      "source": [
        "similarity_num, divergent_num = 8,4 "
      ]
    },
    {
      "cell_type": "code",
      "execution_count": 117,
      "metadata": {},
      "outputs": [],
      "source": [
        "\n",
        "query_embedding  = text_embeddings[query_index]\n",
        "\n",
        "nearest_neighbors_indices = fetch_nearest_neighbors(query_index, cosine_sim_matrix, s=similarity_num)\n",
        "\n",
        "similar_pre_picked_embeddings =  [text_embeddings[similar_index] for similar_index in nearest_neighbors_indices]\n",
        "\n",
        "divergent_indices = fetch_semantically_divergent(query_embedding,similar_pre_picked_embeddings,d=divergent_num )\n",
        "\n",
        "query_headline = df.iloc[query_index][\"headline\"] \n",
        "\n",
        "nearest_headlines = df.iloc[nearest_neighbors_indices][\"headline\"].values \n",
        "\n",
        "divergent_headlines = df.iloc[divergent_indices][\"headline\"].values"
      ]
    },
    {
      "cell_type": "code",
      "execution_count": 118,
      "metadata": {},
      "outputs": [
        {
          "name": "stdout",
          "output_type": "stream",
          "text": [
            "Biden and Trump trade barbs at rival rallies in Georgia \n",
            "\n",
            "\n",
            " Similar Headlines\n",
            "[\"Here are Georgia's 2024 presidential primary results\"\n",
            " \"Biden and Trump could clinch presidential nominations after tonight's elections\"\n",
            " \"It's not just inner-ring suburbs. Trump has also underperformed in key exurban counties during the GOP primaries.\"\n",
            " \"A Trump vs Biden rematch is on, and it's a showdown most Americans didn't want\"\n",
            " \"Mark Cuban says he's not voting for Donald Trump because he doesn't want 'a snake oil salesperson as President'\"\n",
            " 'Biden is using his cash advantage to address vulnerabilities against Trump'\n",
            " \"Here are Washington's 2024 presidential primary results\"\n",
            " 'How to watch President Joe Biden’s State of the Union address'] \n",
            "\n",
            "\n",
            " Divergent Headlines\n",
            "['Biggest US election day yet as 15 states vote on Super Tuesday'\n",
            " \"Key takeaways from Super Tuesday's results so far\"\n",
            " 'Panorama - Trump: The Sequel?'\n",
            " 'Trump pushes legal challenges in two cases']\n"
          ]
        }
      ],
      "source": [
        "print(query_headline, \"\\n\\n\\n\",\"Similar Headlines\")\n",
        "print(nearest_headlines,\"\\n\\n\\n\",\"Divergent Headlines\")\n",
        "print(divergent_headlines)"
      ]
    },
    {
      "cell_type": "code",
      "execution_count": null,
      "metadata": {},
      "outputs": [],
      "source": []
    },
    {
      "cell_type": "markdown",
      "metadata": {},
      "source": [
        "### Cosine + Divergent"
      ]
    },
    {
      "cell_type": "code",
      "execution_count": 119,
      "metadata": {},
      "outputs": [],
      "source": [
        "similarity_num, divergent_num = 8,4 "
      ]
    },
    {
      "cell_type": "code",
      "execution_count": 120,
      "metadata": {},
      "outputs": [],
      "source": [
        "\n",
        "query_embedding  = text_embeddings[query_index]\n",
        "\n",
        "nearest_neighbors_indices = find_cosine_similar_embeddings(query_embedding, text_embeddings, s=similarity_num)\n",
        "\n",
        "similar_pre_picked_embeddings =  [text_embeddings[similar_index] for similar_index in nearest_neighbors_indices]\n",
        "\n",
        "divergent_indices = fetch_semantically_divergent(query_embedding,similar_pre_picked_embeddings,d =divergent_num )\n",
        "\n",
        "query_headline = df.iloc[query_index][\"headline\"] \n",
        "\n",
        "nearest_headlines = df.iloc[nearest_neighbors_indices][\"headline\"].values \n",
        "\n",
        "divergent_headlines = df.iloc[divergent_indices][\"headline\"].values"
      ]
    },
    {
      "cell_type": "code",
      "execution_count": 121,
      "metadata": {},
      "outputs": [
        {
          "name": "stdout",
          "output_type": "stream",
          "text": [
            "Biden and Trump trade barbs at rival rallies in Georgia \n",
            "\n",
            "\n",
            " Similar Headlines\n",
            "[\"Biden and Trump could clinch presidential nominations after tonight's elections\"\n",
            " \"This is happening: It's Trump versus Biden, and Trump has the upper hand now\"\n",
            " 'Trump again mixed up Obama and Biden during Virginia rally speech'\n",
            " \"A Trump vs Biden rematch is on, and it's a showdown most Americans didn't want\"\n",
            " 'Biggest US election day yet as 15 states vote on Super Tuesday'\n",
            " \"Putin said Trump wasn't happy with him in 2020 because he thought the Russian leader wanted 'Sleepy Joe to win'\"\n",
            " 'The ultimate guide to Super Tuesday'\n",
            " \"It's not just inner-ring suburbs. Trump has also underperformed in key exurban counties during the GOP primaries.\"] \n",
            "\n",
            "\n",
            " Divergent Headlines\n",
            "['Biggest US election day yet as 15 states vote on Super Tuesday'\n",
            " \"Key takeaways from Super Tuesday's results so far\"\n",
            " \"Biden and Trump 'clinch their party nominations'\"\n",
            " 'Trump pushes legal challenges in two cases']\n"
          ]
        }
      ],
      "source": [
        "\n",
        "\n",
        "print(query_headline, \"\\n\\n\\n\",\"Similar Headlines\")\n",
        "print(nearest_headlines,\"\\n\\n\\n\",\"Divergent Headlines\")\n",
        "print(divergent_headlines)\n",
        "\n"
      ]
    },
    {
      "cell_type": "code",
      "execution_count": null,
      "metadata": {},
      "outputs": [],
      "source": []
    },
    {
      "cell_type": "code",
      "execution_count": null,
      "metadata": {},
      "outputs": [],
      "source": []
    }
  ],
  "metadata": {
    "colab": {
      "provenance": []
    },
    "kernelspec": {
      "display_name": "Python 3",
      "name": "python3"
    },
    "language_info": {
      "codemirror_mode": {
        "name": "ipython",
        "version": 3
      },
      "file_extension": ".py",
      "mimetype": "text/x-python",
      "name": "python",
      "nbconvert_exporter": "python",
      "pygments_lexer": "ipython3",
      "version": "3.10.13"
    }
  },
  "nbformat": 4,
  "nbformat_minor": 0
}
