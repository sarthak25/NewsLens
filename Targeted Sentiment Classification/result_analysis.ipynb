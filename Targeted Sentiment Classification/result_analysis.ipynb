{
 "cells": [
  {
   "cell_type": "code",
   "execution_count": 119,
   "metadata": {},
   "outputs": [],
   "source": [
    "import pandas as pd \n",
    "import numpy as np \n",
    "import json "
   ]
  },
  {
   "cell_type": "code",
   "execution_count": 120,
   "metadata": {},
   "outputs": [],
   "source": [
    "json_path = \"output/tokens_dict.json\"\n",
    "\n",
    "proc_path = \"output/final_processed_articles.csv\""
   ]
  },
  {
   "cell_type": "code",
   "execution_count": 121,
   "metadata": {},
   "outputs": [],
   "source": [
    "\n",
    "f = open(json_path)\n",
    "data = json.load(f)\n",
    " \n",
    "f.close()\n",
    "\n",
    "df = pd.read_csv(proc_path)"
   ]
  },
  {
   "cell_type": "code",
   "execution_count": 131,
   "metadata": {},
   "outputs": [
    {
     "data": {
      "text/plain": [
       "dict_keys(['neutral', 'positive', 'negative', 'indices', 'media_source'])"
      ]
     },
     "execution_count": 131,
     "metadata": {},
     "output_type": "execute_result"
    }
   ],
   "source": [
    "data[\"Trump\"].keys()"
   ]
  },
  {
   "cell_type": "code",
   "execution_count": 157,
   "metadata": {},
   "outputs": [
    {
     "data": {
      "text/plain": [
       "False"
      ]
     },
     "execution_count": 157,
     "metadata": {},
     "output_type": "execute_result"
    }
   ],
   "source": [
    "data[\"America\"][\"media_source\"][\"MSNBC\"][\"positive\"] is "
   ]
  },
  {
   "cell_type": "code",
   "execution_count": 161,
   "metadata": {},
   "outputs": [
    {
     "data": {
      "text/plain": [
       "dict_keys(['Pitt', 'Kelly', 'Boluarte', 'Trump Media', 'Houston Rockets', 'Nathan Lyon', 'Corey', 'Archer', 'Mumbai Indians', 'Kiev', 'FC Barcelona', 'PSG', 'Barca', 'Collin', 'am', 'Eastman', 'Li Auto', 'Raphin', 'Joan Laporta', 'Kill', 'Head', 'DOE', 'Levine', 'Maud Maron', 'Stephen Yang', 'Banks', 'Christianity', 'MTA', 'Gray', 'Apple Pencil', 'Jake Sullivan', 'Milton', 'Rashid Khan', 'Titans', 'Shi', 'Jon', 'ny Bairstow', 'Solomon', 'Ricky Ponting', 'Elon Musks X', 'Mastercard', 'Putin', 'Vladimir Zelensky', 'Stephen Curry', 'DBSC', 'ry Zaluzhny', 'Walker', 'Carlo Ancelotti', 'go', 'Perez', 'Cam Thomas', 'Dennis Schroder', 'Coinbase', 'ko', 'Or', 'Romano', 'Marseille', 'CSK', 'Reagan', 'Super Micro Computer', 'Royals', 'Capitals', 'vi Shaw', 'Shaw', 'RCB', 'Mitchell Marsh', 'Warner', 'Topline\\nTesla', 'Alonso', 'Zida', 'Men', 'Schr', 'Gerald Coetzee', 'Pat Connaughton', 'Russell Westbrook', 'ylian Mbapp', 'Mike Lawler', 'Lucknow Super Giants', 'LSG', 'Marcus Stoinis', 'Poor', 'ton de Kock', 'Robinhood', 'Marsh', 'Dmitry Kuleba', 'y Gundogan', 'iPhone 12', 'Hernandez', 'L Rahul', 'Steven Smith', 'ik Pandy', 'it Sharma', 'Hardik Pandya', 'it', 'Dane', 'Christensen', 't Kohli', 'Google Photos', 'Heinrich Klaasen', 'Tim David', 'Brook', 'Samson', 'Para', 'Burger', 'Matthew Wade', 'Craig Kaplan', 'Change Healthcare', 'Zion Williamson', 'Blake', 'Supermicro', 'Narayana Murthy', 'HDZ', 'Daniel Halseth', 'lgelian', 'VW', 'Volkswagen', 'Crawford', 'CIT Bank', 'Nick Foles', 'Consumer Staples', 'Kang', 'XB-70', 'Sony', 'Wolfsburg', 'Villa', 'Jew', 'Hitler', 'Apple Music', 'Nvidias', 'SoundHound', 'Mace', 'Bernardo', 'Jeff Jackson', 'Zepp Health', 'Climate Corps', 'Moreno', 'Shane Watson', 'Watson', 'Alec Burks', 'Ben Thomas', 'OJ', 'Flow', 'Neumann', 'Blink', 'Gross', 'Porto', 'Pierce', 'John Kelly', 'Orban', 'Wagner'])"
      ]
     },
     "execution_count": 161,
     "metadata": {},
     "output_type": "execute_result"
    }
   ],
   "source": [
    "token_polarity_dict = {}\n",
    "accepting_words = set([])\n",
    "for word, sent_dict in data.items():\n",
    "    flag = True\n",
    "    for media_source, media_dict in sent_dict[\"media_source\"].items():\n",
    "        if (( media_dict[\"positive\"] is data[\"America\"][\"media_source\"][\"MSNBC\"][\"negative\"]) or (media_dict[\"negative\"] is data[\"America\"][\"media_source\"][\"MSNBC\"][\"negative\"])):\n",
    "            flag = False\n",
    "    \n",
    "\n",
    "    if(flag):\n",
    "        token_polarity_dict[word] = sent_dict[\"media_source\"]\n",
    "    \n",
    "\n",
    "\n",
    "            \n",
    "\n",
    "\n",
    "token_polarity_dict.keys()"
   ]
  },
  {
   "cell_type": "code",
   "execution_count": 179,
   "metadata": {},
   "outputs": [
    {
     "name": "stdout",
     "output_type": "stream",
     "text": [
      "PSG\n",
      "Head\n",
      "Putin\n",
      "Stephen Curry\n",
      "RCB\n",
      "t Kohli\n",
      "Hitler\n"
     ]
    }
   ],
   "source": [
    "for key, items in token_polarity_dict.items():\n",
    "    if(len(items)>1):\n",
    "        print(key)\n",
    "\n"
   ]
  },
  {
   "cell_type": "code",
   "execution_count": 182,
   "metadata": {},
   "outputs": [
    {
     "data": {
      "text/plain": [
       "{'Forbes': {'neutral': 0.7995523825287819,\n",
       "  'positive': 0.7776117324829102,\n",
       "  'negative': 0.7707840998967489},\n",
       " 'ESPN': {'neutral': 0.8131104279787112,\n",
       "  'positive': 0.6103270758282054,\n",
       "  'negative': 0.7383336623509725}}"
      ]
     },
     "execution_count": 182,
     "metadata": {},
     "output_type": "execute_result"
    }
   ],
   "source": [
    "token_polarity_dict[\"PSG\"]"
   ]
  },
  {
   "cell_type": "code",
   "execution_count": 184,
   "metadata": {},
   "outputs": [],
   "source": [
    "viz_dict = {\n",
    "\n",
    "    \"RCB\":{'ESPN Cric Info': {\n",
    "  'positive': 0.5377366443475088,\n",
    "  'negative': 0.7658419211705526},\n",
    " 'Forbes': {\n",
    "  'positive': 0.831790566444397,\n",
    "  'negative': 0.8943678736686707}},\n",
    "\n",
    "  \"Stephen Curry\": {\n",
    "      'ESPN': {\n",
    "  'positive': 0.6675826907157898,\n",
    "  'negative': 0.7161705642938614},\n",
    " 'New York Post': {\n",
    "  'positive': 0.666597048441569,\n",
    "  'negative': 0.4932657778263092}\n",
    "  },\n",
    "  \n",
    "    \"Kohli\":{'ESPN Cric Info': {\n",
    "  'positive': 0.6517117917537689,\n",
    "  'negative': 0.4199385643005371},\n",
    " 'Forbes': {'positive': 0.8636790812015533,'negative': 0.46214407682418823}\n",
    "    },\n",
    "\n",
    "\n",
    "    \"PSG\":{'Forbes': {'neutral': 0.7995523825287819,\n",
    "  'positive': 0.7776117324829102,\n",
    "  'negative': 0.7707840998967489},\n",
    " 'ESPN': {'neutral': 0.8131104279787112,\n",
    "  'positive': 0.6103270758282054,\n",
    "  'negative': 0.7383336623509725}}\n",
    "\n",
    "\n",
    "  }\n"
   ]
  },
  {
   "cell_type": "code",
   "execution_count": 100,
   "metadata": {},
   "outputs": [],
   "source": [
    "tokens = [\"Cha\",\"Kennedy\",\"Robert F.  Kennedy Jr\",\"BJP\",\"Rajasthan Royals\",\"Telegram\", \"Christians\",\"Delhi Capitals\",\n",
    "          \"US\",\"America\",\"England\",\"Donald Trump\",\"Trump\"\n",
    "          \n",
    "]\n"
   ]
  },
  {
   "cell_type": "code",
   "execution_count": 82,
   "metadata": {},
   "outputs": [
    {
     "ename": "KeyError",
     "evalue": "'positive'",
     "output_type": "error",
     "traceback": [
      "\u001b[0;31m---------------------------------------------------------------------------\u001b[0m",
      "\u001b[0;31mKeyError\u001b[0m                                  Traceback (most recent call last)",
      "Cell \u001b[0;32mIn[82], line 1\u001b[0m\n\u001b[0;32m----> 1\u001b[0m \u001b[43mtoken_dic\u001b[49m\u001b[43m[\u001b[49m\u001b[38;5;124;43m\"\u001b[39;49m\u001b[38;5;124;43mpositive\u001b[39;49m\u001b[38;5;124;43m\"\u001b[39;49m\u001b[43m]\u001b[49m\n",
      "\u001b[0;31mKeyError\u001b[0m: 'positive'"
     ]
    }
   ],
   "source": [
    "token_dic[\"positive\"]"
   ]
  },
  {
   "cell_type": "code",
   "execution_count": 101,
   "metadata": {},
   "outputs": [],
   "source": [
    "filtered_data = {}\n",
    "for word, token_dic in data.items():\n",
    "    if(word in tokens):\n",
    "        filtered_data[word] = {\"positive\":token_dic[\"positive\"],\"negative\":token_dic[\"negative\"],\"media_sources\":token_dic[\"media_source\"]}\n",
    "\n",
    "\n",
    "\n",
    "# filtered_data = {}\n",
    "# for word, token_dic in data.items():\n",
    "#     if word in tokens:\n",
    "#         if all(key in token_dic for key in ['positive', 'negative', 'media_source']):\n",
    "#             filtered_data[word] = {\n",
    "#                 \"positive\": token_dic[\"positive\"],\n",
    "#                 \"negative\": token_dic[\"negative\"],\n",
    "#                 \"media_sources\": token_dic[\"media_source\"]\n",
    "#             }\n"
   ]
  },
  {
   "cell_type": "code",
   "execution_count": 102,
   "metadata": {},
   "outputs": [
    {
     "name": "stdout",
     "output_type": "stream",
     "text": [
      "America 7\n",
      "Robert F.  Kennedy Jr 3\n",
      "Donald Trump 8\n",
      "Kennedy 2\n",
      "Trump 9\n",
      "US 8\n",
      "Cha 6\n",
      "England 7\n",
      "Telegram 3\n",
      "Christians 2\n",
      "Rajasthan Royals 2\n",
      "Delhi Capitals 2\n",
      "BJP 2\n"
     ]
    }
   ],
   "source": [
    "for word , dic in filtered_data.items():\n",
    "    print(word, len(dic[\"media_sources\"]))\n"
   ]
  },
  {
   "cell_type": "code",
   "execution_count": 118,
   "metadata": {},
   "outputs": [
    {
     "data": {
      "text/plain": [
       "{'positive': 0.5485144853591919,\n",
       " 'negative': 0.8183167055249214,\n",
       " 'media_sources': {'RT': {'neutral': 0.9323170185089111,\n",
       "   'positive': 0.5485144853591919,\n",
       "   'negative': 0.8183167055249214},\n",
       "  'New York Post': {'neutral': 0.9780141115188599,\n",
       "   'positive': nan,\n",
       "   'negative': nan},\n",
       "  'CNN': {'neutral': 0.9796509146690369, 'positive': nan, 'negative': nan}}}"
      ]
     },
     "execution_count": 118,
     "metadata": {},
     "output_type": "execute_result"
    }
   ],
   "source": [
    "filtered_data[\"Telegram\"]\n",
    "\n"
   ]
  },
  {
   "cell_type": "code",
   "execution_count": 63,
   "metadata": {},
   "outputs": [],
   "source": [
    "final_dict = {\n",
    "\n",
    "   \"Robert F Kennedy Jr\":{'positive': 0.5689260959625244,'negative': 0.4128340184688568,\n",
    "                          'media_sources': {'New York Post': {'positive': 0.4657667279243469,'negative': 0.7916895747184753},}},\n",
    "\n",
    "    \"Donald Trump\":{'positive': 0.749620646238327,'negative': 0.8556951649487019,\n",
    "                    'media_sources': {'Wired': {'positive': 0.8055520057678223,'negative': 0.4442294239997864}}},\n",
    "    \n",
    "    \"Chat GPT\": {'positive': 0.7008045230593,'negative': 0.37004953622817993,\n",
    "                 'media_sources': {'New York Post': {'positive': 0.7397769689559937,'negative': 0.37004953622817993}\n",
    "                 }},\n",
    "   \"Rajasthan Royals\":{'positive': 0.803121010462443,'negative': 0.5039967149496078,\n",
    "                       'media_sources': {'ESPN Cric Info': {'positive': 0.803121010462443,'negative': 0.5039967149496078}}}\n",
    " \n",
    "}"
   ]
  },
  {
   "cell_type": "code",
   "execution_count": 1,
   "metadata": {},
   "outputs": [],
   "source": [
    "from NewsSentiment import TargetSentimentClassifier\n",
    "targeted_sentiment_classificaton_model = TargetSentimentClassifier()\n",
    "\n",
    "from transformers import pipeline\n",
    "conventional_sentiment_classification = pipeline(\"sentiment-analysis\", model=\"siebert/sentiment-roberta-large-english\")"
   ]
  },
  {
   "cell_type": "code",
   "execution_count": 2,
   "metadata": {},
   "outputs": [
    {
     "name": "stdout",
     "output_type": "stream",
     "text": [
      "Sentiment for the sentence: NEGATIVE\n"
     ]
    }
   ],
   "source": [
    "\n",
    "text =\"I love Peter, but I hate Robert.\"\n",
    "\n",
    "prediction = conventional_sentiment_classification(text)\n",
    "\n",
    "print(f\"Sentiment for the sentence: {prediction[0]['label']}\")\n"
   ]
  },
  {
   "cell_type": "code",
   "execution_count": 4,
   "metadata": {},
   "outputs": [
    {
     "name": "stderr",
     "output_type": "stream",
     "text": [
      "Processing batches: 100%|██████████| 2/2 [00:00<00:00,  2.40batch/s]"
     ]
    },
    {
     "name": "stdout",
     "output_type": "stream",
     "text": [
      "Sentiment for Peter:  positive\n",
      "Sentiment for Rober:  negative\n"
     ]
    },
    {
     "name": "stderr",
     "output_type": "stream",
     "text": [
      "\n"
     ]
    }
   ],
   "source": [
    "\n",
    "\n",
    "sentence = \"I love Peter, but I hate Robert.\"\n",
    "\n",
    "data = [\n",
    "    (\"I love \", \"Peter\", \" but I hate Robert.\"),\n",
    "\n",
    "    (\"I love Peter, but I hate\", \"Rober\", \"\"),\n",
    "\n",
    "]\n",
    "sentiments = targeted_sentiment_classificaton_model.infer(targets=data)\n",
    "\n",
    "for i, result in enumerate(sentiments):\n",
    "    print(f\"Sentiment for {data[i][1]}: \", result[0][\"class_label\"])"
   ]
  },
  {
   "cell_type": "code",
   "execution_count": 247,
   "metadata": {},
   "outputs": [],
   "source": [
    "df_frontend = pd.read_csv(\"output/final_processed_articles.csv\")\n"
   ]
  },
  {
   "cell_type": "code",
   "execution_count": 248,
   "metadata": {},
   "outputs": [
    {
     "data": {
      "text/html": [
       "<div>\n",
       "<style scoped>\n",
       "    .dataframe tbody tr th:only-of-type {\n",
       "        vertical-align: middle;\n",
       "    }\n",
       "\n",
       "    .dataframe tbody tr th {\n",
       "        vertical-align: top;\n",
       "    }\n",
       "\n",
       "    .dataframe thead th {\n",
       "        text-align: right;\n",
       "    }\n",
       "</style>\n",
       "<table border=\"1\" class=\"dataframe\">\n",
       "  <thead>\n",
       "    <tr style=\"text-align: right;\">\n",
       "      <th></th>\n",
       "      <th>article_hash</th>\n",
       "      <th>Unnamed: 0</th>\n",
       "      <th>media_source</th>\n",
       "      <th>author</th>\n",
       "      <th>headline</th>\n",
       "      <th>description</th>\n",
       "      <th>content</th>\n",
       "      <th>url</th>\n",
       "      <th>image_url</th>\n",
       "      <th>publish_date</th>\n",
       "      <th>current_date</th>\n",
       "      <th>processed_texts</th>\n",
       "      <th>text_embeddings</th>\n",
       "      <th>words</th>\n",
       "      <th>labels</th>\n",
       "      <th>scores</th>\n",
       "      <th>recommended_hashes</th>\n",
       "    </tr>\n",
       "  </thead>\n",
       "  <tbody>\n",
       "    <tr>\n",
       "      <th>0</th>\n",
       "      <td>12f94e4f4f6e8151fe1c83dd17701c830d94154a87a19f...</td>\n",
       "      <td>0</td>\n",
       "      <td>New York Post</td>\n",
       "      <td>Diana Glebova</td>\n",
       "      <td>RFK Jr. vows to appoint special counsel to loo...</td>\n",
       "      <td>Just what America needs: More special counsels...</td>\n",
       "      <td>Just what America needs: More special counsels...</td>\n",
       "      <td>https://nypost.com/2024/04/05/us-news/rfk-jr-v...</td>\n",
       "      <td>https://nypost.com/wp-content/uploads/sites/2/...</td>\n",
       "      <td>2024-04-05T20:40:29Z</td>\n",
       "      <td>2024-04-06 16:45:09.852245</td>\n",
       "      <td>Just what America needs: More special counsels...</td>\n",
       "      <td>[-0.027878182008862495, -0.02313298173248768, ...</td>\n",
       "      <td>['America', 'Robert F.  Kennedy Jr', 'Donald T...</td>\n",
       "      <td>['positive', 'positive', 'negative', 'negative...</td>\n",
       "      <td>[0.703181266784668, 0.5689260959625244, 0.9515...</td>\n",
       "      <td>[22, 785, 55, 356]</td>\n",
       "    </tr>\n",
       "    <tr>\n",
       "      <th>1</th>\n",
       "      <td>7e8caabc3b5f0775fa757867462ef283c01286e84efcdd...</td>\n",
       "      <td>1</td>\n",
       "      <td>New York Post</td>\n",
       "      <td>Chris Nesi, Natalie O'Neill</td>\n",
       "      <td>Doomsday shakeup! Did the eclipse have anythin...</td>\n",
       "      <td>The 4.8-magnitude earthquake that struck the N...</td>\n",
       "      <td>The end isnt nigh  but weirdness could still b...</td>\n",
       "      <td>https://nypost.com/2024/04/05/us-news/did-the-...</td>\n",
       "      <td>https://nypost.com/wp-content/uploads/sites/2/...</td>\n",
       "      <td>2024-04-05T20:17:45Z</td>\n",
       "      <td>2024-04-06 16:36:40.914128</td>\n",
       "      <td>The end isnt nigh  but weirdness could still b...</td>\n",
       "      <td>[-0.009211208671331406, -0.0015659346245229244...</td>\n",
       "      <td>['New York', 'NYC', 'Paul Earl', 'United State...</td>\n",
       "      <td>['neutral', 'neutral', 'neutral', 'neutral', '...</td>\n",
       "      <td>[0.9539529085159302, 0.9165008664131165, 0.938...</td>\n",
       "      <td>[176, 363, 150, 907]</td>\n",
       "    </tr>\n",
       "    <tr>\n",
       "      <th>2</th>\n",
       "      <td>e0a0af73074ad48293955c3ecef04ae1aa3a209c047b42...</td>\n",
       "      <td>6</td>\n",
       "      <td>Politicalwire.com</td>\n",
       "      <td>Taegan Goddard</td>\n",
       "      <td>CIA Confirms House GOP Whistleblower Was Lying</td>\n",
       "      <td>\"House Republicans leading the impeachment inq...</td>\n",
       "      <td>House Republicans leading the impeachment inqu...</td>\n",
       "      <td>https://politicalwire.com/2024/04/05/cia-confi...</td>\n",
       "      <td>https://politicalwire.com/wp-content/uploads/2...</td>\n",
       "      <td>2024-04-05T20:15:49Z</td>\n",
       "      <td>2024-04-06 16:34:18.288107</td>\n",
       "      <td>House Republicans leading the impeachment inqu...</td>\n",
       "      <td>[-0.08925691246986389, -0.002668436849489808, ...</td>\n",
       "      <td>['House', 'CIA', 'CNN', 'Republican']</td>\n",
       "      <td>['negative', 'negative', 'neutral', 'neutral']</td>\n",
       "      <td>[0.967804878950119, 0.7979826331138611, 0.8300...</td>\n",
       "      <td>[582, 10, 542, 723]</td>\n",
       "    </tr>\n",
       "    <tr>\n",
       "      <th>3</th>\n",
       "      <td>7a15d6cf91deb5830d1f99daa057541cc4c0459aaa7f87...</td>\n",
       "      <td>7</td>\n",
       "      <td>Forbes</td>\n",
       "      <td>Edward Segal, Senior Contributor, \\n Edward Se...</td>\n",
       "      <td>Response To Bridge Collapse Shows Importance O...</td>\n",
       "      <td>The ability to recover from a crisis is just a...</td>\n",
       "      <td>US President Joe Biden speaks about the collap...</td>\n",
       "      <td>https://www.forbes.com/sites/edwardsegal/2024/...</td>\n",
       "      <td>https://imageio.forbes.com/specials-images/ima...</td>\n",
       "      <td>2024-04-05T20:14:21Z</td>\n",
       "      <td>2024-04-06 16:34:19.400891</td>\n",
       "      <td>US President Joe Biden speaks about the collap...</td>\n",
       "      <td>[-0.07419408112764359, 0.026577753946185112, 0...</td>\n",
       "      <td>['US', 'Joe Biden', 'Francis Scott Key Bridge'...</td>\n",
       "      <td>['neutral', 'neutral', 'neutral', 'neutral', '...</td>\n",
       "      <td>[0.9082992076873779, 0.970769464969635, 0.6913...</td>\n",
       "      <td>[705, 890, 8, 591]</td>\n",
       "    </tr>\n",
       "    <tr>\n",
       "      <th>4</th>\n",
       "      <td>f666c5488eac09970a6c83ec60bc6d2f1756fe1d728d50...</td>\n",
       "      <td>3</td>\n",
       "      <td>Al Jazeera English</td>\n",
       "      <td>Al Jazeera</td>\n",
       "      <td>First UN food aid in months arrives in Sudans ...</td>\n",
       "      <td>Aid deliveries follow talks to reopen humanita...</td>\n",
       "      <td>The United Nations has begun distributing food...</td>\n",
       "      <td>https://www.aljazeera.com/news/2024/4/5/first-...</td>\n",
       "      <td>https://www.aljazeera.com/wp-content/uploads/2...</td>\n",
       "      <td>2024-04-05T20:12:07Z</td>\n",
       "      <td>2024-04-06 16:36:42.651615</td>\n",
       "      <td>The United Nations has begun distributing food...</td>\n",
       "      <td>[-0.026326993480324745, -0.016777904704213142,...</td>\n",
       "      <td>['United Nations', 'Sudan', 'Darfur', 'UNs Wor...</td>\n",
       "      <td>['positive', 'neutral', 'neutral', 'neutral', ...</td>\n",
       "      <td>[0.762409508228302, 0.8812769736562457, 0.9279...</td>\n",
       "      <td>[611, 596, 254, 819]</td>\n",
       "    </tr>\n",
       "  </tbody>\n",
       "</table>\n",
       "</div>"
      ],
      "text/plain": [
       "                                        article_hash  Unnamed: 0  \\\n",
       "0  12f94e4f4f6e8151fe1c83dd17701c830d94154a87a19f...           0   \n",
       "1  7e8caabc3b5f0775fa757867462ef283c01286e84efcdd...           1   \n",
       "2  e0a0af73074ad48293955c3ecef04ae1aa3a209c047b42...           6   \n",
       "3  7a15d6cf91deb5830d1f99daa057541cc4c0459aaa7f87...           7   \n",
       "4  f666c5488eac09970a6c83ec60bc6d2f1756fe1d728d50...           3   \n",
       "\n",
       "         media_source                                             author  \\\n",
       "0       New York Post                                      Diana Glebova   \n",
       "1       New York Post                        Chris Nesi, Natalie O'Neill   \n",
       "2   Politicalwire.com                                     Taegan Goddard   \n",
       "3              Forbes  Edward Segal, Senior Contributor, \\n Edward Se...   \n",
       "4  Al Jazeera English                                         Al Jazeera   \n",
       "\n",
       "                                            headline  \\\n",
       "0  RFK Jr. vows to appoint special counsel to loo...   \n",
       "1  Doomsday shakeup! Did the eclipse have anythin...   \n",
       "2     CIA Confirms House GOP Whistleblower Was Lying   \n",
       "3  Response To Bridge Collapse Shows Importance O...   \n",
       "4  First UN food aid in months arrives in Sudans ...   \n",
       "\n",
       "                                         description  \\\n",
       "0  Just what America needs: More special counsels...   \n",
       "1  The 4.8-magnitude earthquake that struck the N...   \n",
       "2  \"House Republicans leading the impeachment inq...   \n",
       "3  The ability to recover from a crisis is just a...   \n",
       "4  Aid deliveries follow talks to reopen humanita...   \n",
       "\n",
       "                                             content  \\\n",
       "0  Just what America needs: More special counsels...   \n",
       "1  The end isnt nigh  but weirdness could still b...   \n",
       "2  House Republicans leading the impeachment inqu...   \n",
       "3  US President Joe Biden speaks about the collap...   \n",
       "4  The United Nations has begun distributing food...   \n",
       "\n",
       "                                                 url  \\\n",
       "0  https://nypost.com/2024/04/05/us-news/rfk-jr-v...   \n",
       "1  https://nypost.com/2024/04/05/us-news/did-the-...   \n",
       "2  https://politicalwire.com/2024/04/05/cia-confi...   \n",
       "3  https://www.forbes.com/sites/edwardsegal/2024/...   \n",
       "4  https://www.aljazeera.com/news/2024/4/5/first-...   \n",
       "\n",
       "                                           image_url          publish_date  \\\n",
       "0  https://nypost.com/wp-content/uploads/sites/2/...  2024-04-05T20:40:29Z   \n",
       "1  https://nypost.com/wp-content/uploads/sites/2/...  2024-04-05T20:17:45Z   \n",
       "2  https://politicalwire.com/wp-content/uploads/2...  2024-04-05T20:15:49Z   \n",
       "3  https://imageio.forbes.com/specials-images/ima...  2024-04-05T20:14:21Z   \n",
       "4  https://www.aljazeera.com/wp-content/uploads/2...  2024-04-05T20:12:07Z   \n",
       "\n",
       "                 current_date  \\\n",
       "0  2024-04-06 16:45:09.852245   \n",
       "1  2024-04-06 16:36:40.914128   \n",
       "2  2024-04-06 16:34:18.288107   \n",
       "3  2024-04-06 16:34:19.400891   \n",
       "4  2024-04-06 16:36:42.651615   \n",
       "\n",
       "                                     processed_texts  \\\n",
       "0  Just what America needs: More special counsels...   \n",
       "1  The end isnt nigh  but weirdness could still b...   \n",
       "2  House Republicans leading the impeachment inqu...   \n",
       "3  US President Joe Biden speaks about the collap...   \n",
       "4  The United Nations has begun distributing food...   \n",
       "\n",
       "                                     text_embeddings  \\\n",
       "0  [-0.027878182008862495, -0.02313298173248768, ...   \n",
       "1  [-0.009211208671331406, -0.0015659346245229244...   \n",
       "2  [-0.08925691246986389, -0.002668436849489808, ...   \n",
       "3  [-0.07419408112764359, 0.026577753946185112, 0...   \n",
       "4  [-0.026326993480324745, -0.016777904704213142,...   \n",
       "\n",
       "                                               words  \\\n",
       "0  ['America', 'Robert F.  Kennedy Jr', 'Donald T...   \n",
       "1  ['New York', 'NYC', 'Paul Earl', 'United State...   \n",
       "2              ['House', 'CIA', 'CNN', 'Republican']   \n",
       "3  ['US', 'Joe Biden', 'Francis Scott Key Bridge'...   \n",
       "4  ['United Nations', 'Sudan', 'Darfur', 'UNs Wor...   \n",
       "\n",
       "                                              labels  \\\n",
       "0  ['positive', 'positive', 'negative', 'negative...   \n",
       "1  ['neutral', 'neutral', 'neutral', 'neutral', '...   \n",
       "2     ['negative', 'negative', 'neutral', 'neutral']   \n",
       "3  ['neutral', 'neutral', 'neutral', 'neutral', '...   \n",
       "4  ['positive', 'neutral', 'neutral', 'neutral', ...   \n",
       "\n",
       "                                              scores    recommended_hashes  \n",
       "0  [0.703181266784668, 0.5689260959625244, 0.9515...    [22, 785, 55, 356]  \n",
       "1  [0.9539529085159302, 0.9165008664131165, 0.938...  [176, 363, 150, 907]  \n",
       "2  [0.967804878950119, 0.7979826331138611, 0.8300...   [582, 10, 542, 723]  \n",
       "3  [0.9082992076873779, 0.970769464969635, 0.6913...    [705, 890, 8, 591]  \n",
       "4  [0.762409508228302, 0.8812769736562457, 0.9279...  [611, 596, 254, 819]  "
      ]
     },
     "execution_count": 248,
     "metadata": {},
     "output_type": "execute_result"
    }
   ],
   "source": [
    "df_frontend.head()"
   ]
  },
  {
   "cell_type": "code",
   "execution_count": 249,
   "metadata": {},
   "outputs": [],
   "source": [
    "data_list = []\n",
    "for index, row in  df.iterrows():\n",
    "    data_list.append(row[\"headline\"])\n",
    "\n",
    "\n"
   ]
  },
  {
   "cell_type": "code",
   "execution_count": 284,
   "metadata": {},
   "outputs": [],
   "source": [
    "indices = []\n",
    "for index, row in df.iterrows():\n",
    "    if(\"trump and musk\" in row[\"headline\"].lower()):\n",
    "        indices.append(index)"
   ]
  },
  {
   "cell_type": "code",
   "execution_count": 285,
   "metadata": {},
   "outputs": [
    {
     "data": {
      "text/plain": [
       "[183]"
      ]
     },
     "execution_count": 285,
     "metadata": {},
     "output_type": "execute_result"
    }
   ],
   "source": [
    "indices"
   ]
  },
  {
   "cell_type": "code",
   "execution_count": 286,
   "metadata": {},
   "outputs": [
    {
     "name": "stdout",
     "output_type": "stream",
     "text": [
      "Article Headline: \n",
      "Trump and Musk have regaled the right with racist junk science \n",
      "\n",
      "Recommendations Headlines: \n",
      "Elon Musk Passes Jeff Bezos As Richest Person In U.S.Again\n",
      "Elon Musk May Make Late Endorsement for President\n",
      "NATO Plots Trump Survival Strategy\n",
      "Melania Trump set to appear at fundraiser for Log Cabin Republicans at Mar-a-Lago | CNN Politics\n",
      "\n",
      "\n",
      "\n",
      "\n"
     ]
    }
   ],
   "source": [
    "# n=24\n",
    "for index, row in  df.iloc[indices].iterrows():\n",
    "    print(\"Article Headline: \")\n",
    "    print(row[\"headline\"],\"\\n\")\n",
    "    print(\"Recommendations Headlines: \")\n",
    "    for rec in eval(row[\"recommended_hashes\"]):\n",
    "\n",
    "        print(data_list[rec])\n",
    "    \n",
    "    print(\"\\n\\n\\n\")\n"
   ]
  },
  {
   "cell_type": "code",
   "execution_count": 237,
   "metadata": {},
   "outputs": [],
   "source": []
  },
  {
   "cell_type": "code",
   "execution_count": null,
   "metadata": {},
   "outputs": [],
   "source": []
  }
 ],
 "metadata": {
  "kernelspec": {
   "display_name": "Python 3 (ipykernel)",
   "language": "python",
   "name": "python3"
  },
  "language_info": {
   "codemirror_mode": {
    "name": "ipython",
    "version": 3
   },
   "file_extension": ".py",
   "mimetype": "text/x-python",
   "name": "python",
   "nbconvert_exporter": "python",
   "pygments_lexer": "ipython3",
   "version": "3.12.4"
  }
 },
 "nbformat": 4,
 "nbformat_minor": 4
}
